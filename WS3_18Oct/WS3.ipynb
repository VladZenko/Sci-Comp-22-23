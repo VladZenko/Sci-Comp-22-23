{
 "cells": [
  {
   "cell_type": "markdown",
   "metadata": {},
   "source": [
    "# Q1"
   ]
  },
  {
   "cell_type": "code",
   "execution_count": 1,
   "metadata": {},
   "outputs": [],
   "source": [
    "import numpy as np\n",
    "import matplotlib.pyplot as plt"
   ]
  },
  {
   "cell_type": "code",
   "execution_count": 2,
   "metadata": {},
   "outputs": [],
   "source": [
    "rnd = np.random.rand(10000)"
   ]
  },
  {
   "cell_type": "code",
   "execution_count": 3,
   "metadata": {},
   "outputs": [
    {
     "data": {
      "image/png": "[encoded data removed]",
      "text/plain": [
       "<Figure size 640x480 with 1 Axes>"
      ]
     },
     "metadata": {},
     "output_type": "display_data"
    }
   ],
   "source": [
    "plt.hist(rnd, bins=20, rwidth = 1.0, ec='k')\n",
    "plt.show()"
   ]
  },
  {
   "cell_type": "markdown",
   "metadata": {},
   "source": [
    "$P(y) = y$\n",
    "\n",
    "$\\int{}{}y dy = \\int{}{}dx$\n",
    "\n",
    "$\\frac{1}{2} y^2 = x$\n",
    "\n",
    "$y = \\sqrt{2x}$"
   ]
  },
  {
   "cell_type": "code",
   "execution_count": 4,
   "metadata": {},
   "outputs": [],
   "source": [
    "lin_dist = np.sqrt(2*rnd)"
   ]
  },
  {
   "cell_type": "code",
   "execution_count": 5,
   "metadata": {},
   "outputs": [
    {
     "data": {
      "image/png": "[encoded data removed]",
      "text/plain": [
       "<Figure size 640x480 with 1 Axes>"
      ]
     },
     "metadata": {},
     "output_type": "display_data"
    }
   ],
   "source": [
    "plt.hist(lin_dist, bins=20, rwidth = 1.0, ec='k')\n",
    "plt.show()"
   ]
  },
  {
   "cell_type": "markdown",
   "metadata": {},
   "source": [
    "# Q2"
   ]
  },
  {
   "cell_type": "markdown",
   "metadata": {},
   "source": [
    "$\\int_{-\\frac{\\pi}{2}}^{\\frac{\\pi}{2}} e^{-|x|} cos(x) dx$"
   ]
  },
  {
   "cell_type": "markdown",
   "metadata": {},
   "source": [
    "## Monte Carlo Integrarion\n",
    "\n",
    "$\\langle f \\rangle = \\frac{1}{b-a} \\int_{a}^{b} f(x) dx$"
   ]
  },
  {
   "cell_type": "markdown",
   "metadata": {},
   "source": [
    "numerically,\n",
    "\n",
    "$(b-a)\\frac{1}{N} \\sum_{i}^{}f(x_i) \\approx \\int_{a}^{b} f(x) dx$"
   ]
  },
  {
   "cell_type": "code",
   "execution_count": 6,
   "metadata": {},
   "outputs": [
    {
     "name": "stdout",
     "output_type": "stream",
     "text": [
      "1.2116109888912936\n"
     ]
    }
   ],
   "source": [
    "b = np.pi/2\n",
    "a = -np.pi/2\n",
    "N = 100000\n",
    "\n",
    "f_sum = 0\n",
    "\n",
    "x = np.random.uniform(a, b, N)\n",
    "\n",
    "for i in range(N):\n",
    "    f_i = np.exp(np.negative(np.abs(x[i])))*np.cos(x[i])\n",
    "    f_sum += f_i\n",
    "\n",
    "int = (b-a)*(1/N)*f_sum\n",
    "\n",
    "print(int)\n"
   ]
  },
  {
   "cell_type": "code",
   "execution_count": 10,
   "metadata": {},
   "outputs": [
    {
     "data": {
      "text/plain": [
       "1.207879576350762"
      ]
     },
     "execution_count": 10,
     "metadata": {},
     "output_type": "execute_result"
    }
   ],
   "source": [
    "import scipy.integrate\n",
    "\n",
    "def integrand(X):\n",
    "    fi = np.exp(np.negative(np.abs(X)))*np.cos(X)\n",
    "    return fi\n",
    "\n",
    "scipy.integrate.quad(integrand, a, b)[0]"
   ]
  },
  {
   "cell_type": "markdown",
   "metadata": {},
   "source": [
    "# Q3"
   ]
  },
  {
   "cell_type": "markdown",
   "metadata": {},
   "source": [
    "$\\left(\\sqrt{x^2+y^2}-\\frac{b+a}{2}+z^2\\right)^2 = \\left(\\frac{b-a}{2}\\right)^2$"
   ]
  },
  {
   "cell_type": "markdown",
   "metadata": {},
   "source": [
    "$\\sqrt{x^2+y^2}+z^2 = \\frac{b-a}{2}+\\frac{b+a}{2}$"
   ]
  },
  {
   "cell_type": "markdown",
   "metadata": {},
   "source": [
    "$z = \\sqrt{b - \\sqrt{x^2+y^2}}$"
   ]
  },
  {
   "cell_type": "code",
   "execution_count": 45,
   "metadata": {},
   "outputs": [
    {
     "name": "stdout",
     "output_type": "stream",
     "text": [
      "1000000\n",
      "402329\n"
     ]
    }
   ],
   "source": [
    "b = 0.1\n",
    "a = 0.05\n",
    "\n",
    "N = 100\n",
    "\n",
    "x = np.random.uniform(-0.15,0.15, N)\n",
    "y = np.random.uniform(-0.15,0.15, N)\n",
    "z = np.random.uniform(-0.025,0.025, N)\n",
    "\n",
    "Ntot = 0\n",
    "Nin = 0\n",
    "\n",
    "for i in range(len(x)):\n",
    "    for j in range(len(y)):\n",
    "        for k in range(len(z)):\n",
    "            \n",
    "            Ntot+=1\n",
    "            \n",
    "            lmt = np.sqrt(x[i]**2+y[j]**2)+z[k]**2\n",
    "            \n",
    "            if lmt<=b:\n",
    "                Nin+=1\n",
    "            \n",
    "print(Ntot)\n",
    "print(Nin)\n"
   ]
  },
  {
   "cell_type": "code",
   "execution_count": 46,
   "metadata": {},
   "outputs": [
    {
     "data": {
      "text/plain": [
       "0.0010058225000000001"
      ]
     },
     "execution_count": 46,
     "metadata": {},
     "output_type": "execute_result"
    }
   ],
   "source": [
    "vol = (Nin/Ntot)*(b-a)*0.05\n",
    "vol"
   ]
  },
  {
   "cell_type": "code",
   "execution_count": null,
   "metadata": {},
   "outputs": [],
   "source": []
  },
  {
   "cell_type": "markdown",
   "metadata": {},
   "source": [
    "# Q4"
   ]
  },
  {
   "cell_type": "code",
   "execution_count": null,
   "metadata": {},
   "outputs": [],
   "source": []
  }
 ],
 "metadata": {
  "kernelspec": {
   "display_name": "Python 3 (ipykernel)",
   "language": "python",
   "name": "python3"
  },
  "language_info": {
   "codemirror_mode": {
    "name": "ipython",
    "version": 3
   },
   "file_extension": ".py",
   "mimetype": "text/x-python",
   "name": "python",
   "nbconvert_exporter": "python",
   "pygments_lexer": "ipython3",
   "version": "3.9.13"
  },
  "vscode": {
   "interpreter": {
    "hash": "26de051ba29f2982a8de78e945f0abaf191376122a1563185a90213a26c5da77"
   }
  }
 },
 "nbformat": 4,
 "nbformat_minor": 2
}
